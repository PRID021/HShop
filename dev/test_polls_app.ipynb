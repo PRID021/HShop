{
 "cells": [
  {
   "cell_type": "code",
   "execution_count": 15,
   "id": "dd214d72",
   "metadata": {},
   "outputs": [],
   "source": [
    "import os\n",
    "os.environ['DJANGO_ALLOW_ASYNC_UNSAFE'] = 'true'"
   ]
  },
  {
   "cell_type": "code",
   "execution_count": 19,
   "id": "97608f5f",
   "metadata": {},
   "outputs": [],
   "source": [
    "from polls.models import Question, Choice"
   ]
  },
  {
   "cell_type": "code",
   "execution_count": 20,
   "id": "ede77295",
   "metadata": {},
   "outputs": [
    {
     "ename": "ImproperlyConfigured",
     "evalue": "settings.DATABASES is improperly configured. Please supply the ENGINE value. Check settings documentation for more details.",
     "output_type": "error",
     "traceback": [
      "\u001b[1;31m---------------------------------------------------------------------------\u001b[0m",
      "\u001b[1;31mImproperlyConfigured\u001b[0m                      Traceback (most recent call last)",
      "File \u001b[1;32m~\\AppData\\Local\\pypoetry\\Cache\\virtualenvs\\mysite-vAluu_41-py3.11\\Lib\\site-packages\\IPython\\core\\formatters.py:711\u001b[0m, in \u001b[0;36mPlainTextFormatter.__call__\u001b[1;34m(self, obj)\u001b[0m\n\u001b[0;32m    704\u001b[0m stream \u001b[38;5;241m=\u001b[39m StringIO()\n\u001b[0;32m    705\u001b[0m printer \u001b[38;5;241m=\u001b[39m pretty\u001b[38;5;241m.\u001b[39mRepresentationPrinter(stream, \u001b[38;5;28mself\u001b[39m\u001b[38;5;241m.\u001b[39mverbose,\n\u001b[0;32m    706\u001b[0m     \u001b[38;5;28mself\u001b[39m\u001b[38;5;241m.\u001b[39mmax_width, \u001b[38;5;28mself\u001b[39m\u001b[38;5;241m.\u001b[39mnewline,\n\u001b[0;32m    707\u001b[0m     max_seq_length\u001b[38;5;241m=\u001b[39m\u001b[38;5;28mself\u001b[39m\u001b[38;5;241m.\u001b[39mmax_seq_length,\n\u001b[0;32m    708\u001b[0m     singleton_pprinters\u001b[38;5;241m=\u001b[39m\u001b[38;5;28mself\u001b[39m\u001b[38;5;241m.\u001b[39msingleton_printers,\n\u001b[0;32m    709\u001b[0m     type_pprinters\u001b[38;5;241m=\u001b[39m\u001b[38;5;28mself\u001b[39m\u001b[38;5;241m.\u001b[39mtype_printers,\n\u001b[0;32m    710\u001b[0m     deferred_pprinters\u001b[38;5;241m=\u001b[39m\u001b[38;5;28mself\u001b[39m\u001b[38;5;241m.\u001b[39mdeferred_printers)\n\u001b[1;32m--> 711\u001b[0m \u001b[43mprinter\u001b[49m\u001b[38;5;241;43m.\u001b[39;49m\u001b[43mpretty\u001b[49m\u001b[43m(\u001b[49m\u001b[43mobj\u001b[49m\u001b[43m)\u001b[49m\n\u001b[0;32m    712\u001b[0m printer\u001b[38;5;241m.\u001b[39mflush()\n\u001b[0;32m    713\u001b[0m \u001b[38;5;28;01mreturn\u001b[39;00m stream\u001b[38;5;241m.\u001b[39mgetvalue()\n",
      "File \u001b[1;32m~\\AppData\\Local\\pypoetry\\Cache\\virtualenvs\\mysite-vAluu_41-py3.11\\Lib\\site-packages\\IPython\\lib\\pretty.py:419\u001b[0m, in \u001b[0;36mRepresentationPrinter.pretty\u001b[1;34m(self, obj)\u001b[0m\n\u001b[0;32m    408\u001b[0m                         \u001b[38;5;28;01mreturn\u001b[39;00m meth(obj, \u001b[38;5;28mself\u001b[39m, cycle)\n\u001b[0;32m    409\u001b[0m                 \u001b[38;5;28;01mif\u001b[39;00m (\n\u001b[0;32m    410\u001b[0m                     \u001b[38;5;28mcls\u001b[39m \u001b[38;5;129;01mis\u001b[39;00m \u001b[38;5;129;01mnot\u001b[39;00m \u001b[38;5;28mobject\u001b[39m\n\u001b[0;32m    411\u001b[0m                     \u001b[38;5;66;03m# check if cls defines __repr__\u001b[39;00m\n\u001b[1;32m   (...)\u001b[0m\n\u001b[0;32m    417\u001b[0m                     \u001b[38;5;129;01mand\u001b[39;00m \u001b[38;5;28mcallable\u001b[39m(_safe_getattr(\u001b[38;5;28mcls\u001b[39m, \u001b[38;5;124m\"\u001b[39m\u001b[38;5;124m__repr__\u001b[39m\u001b[38;5;124m\"\u001b[39m, \u001b[38;5;28;01mNone\u001b[39;00m))\n\u001b[0;32m    418\u001b[0m                 ):\n\u001b[1;32m--> 419\u001b[0m                     \u001b[38;5;28;01mreturn\u001b[39;00m \u001b[43m_repr_pprint\u001b[49m\u001b[43m(\u001b[49m\u001b[43mobj\u001b[49m\u001b[43m,\u001b[49m\u001b[43m \u001b[49m\u001b[38;5;28;43mself\u001b[39;49m\u001b[43m,\u001b[49m\u001b[43m \u001b[49m\u001b[43mcycle\u001b[49m\u001b[43m)\u001b[49m\n\u001b[0;32m    421\u001b[0m     \u001b[38;5;28;01mreturn\u001b[39;00m _default_pprint(obj, \u001b[38;5;28mself\u001b[39m, cycle)\n\u001b[0;32m    422\u001b[0m \u001b[38;5;28;01mfinally\u001b[39;00m:\n",
      "File \u001b[1;32m~\\AppData\\Local\\pypoetry\\Cache\\virtualenvs\\mysite-vAluu_41-py3.11\\Lib\\site-packages\\IPython\\lib\\pretty.py:787\u001b[0m, in \u001b[0;36m_repr_pprint\u001b[1;34m(obj, p, cycle)\u001b[0m\n\u001b[0;32m    785\u001b[0m \u001b[38;5;250m\u001b[39m\u001b[38;5;124;03m\"\"\"A pprint that just redirects to the normal repr function.\"\"\"\u001b[39;00m\n\u001b[0;32m    786\u001b[0m \u001b[38;5;66;03m# Find newlines and replace them with p.break_()\u001b[39;00m\n\u001b[1;32m--> 787\u001b[0m output \u001b[38;5;241m=\u001b[39m \u001b[38;5;28mrepr\u001b[39m(obj)\n\u001b[0;32m    788\u001b[0m lines \u001b[38;5;241m=\u001b[39m output\u001b[38;5;241m.\u001b[39msplitlines()\n\u001b[0;32m    789\u001b[0m \u001b[38;5;28;01mwith\u001b[39;00m p\u001b[38;5;241m.\u001b[39mgroup():\n",
      "File \u001b[1;32m~\\AppData\\Local\\pypoetry\\Cache\\virtualenvs\\mysite-vAluu_41-py3.11\\Lib\\site-packages\\django\\db\\models\\query.py:374\u001b[0m, in \u001b[0;36mQuerySet.__repr__\u001b[1;34m(self)\u001b[0m\n\u001b[0;32m    373\u001b[0m \u001b[38;5;28;01mdef\u001b[39;00m \u001b[38;5;21m__repr__\u001b[39m(\u001b[38;5;28mself\u001b[39m):\n\u001b[1;32m--> 374\u001b[0m     data \u001b[38;5;241m=\u001b[39m \u001b[38;5;28mlist\u001b[39m(\u001b[38;5;28mself\u001b[39m[: REPR_OUTPUT_SIZE \u001b[38;5;241m+\u001b[39m \u001b[38;5;241m1\u001b[39m])\n\u001b[0;32m    375\u001b[0m     \u001b[38;5;28;01mif\u001b[39;00m \u001b[38;5;28mlen\u001b[39m(data) \u001b[38;5;241m>\u001b[39m REPR_OUTPUT_SIZE:\n\u001b[0;32m    376\u001b[0m         data[\u001b[38;5;241m-\u001b[39m\u001b[38;5;241m1\u001b[39m] \u001b[38;5;241m=\u001b[39m \u001b[38;5;124m\"\u001b[39m\u001b[38;5;124m...(remaining elements truncated)...\u001b[39m\u001b[38;5;124m\"\u001b[39m\n",
      "File \u001b[1;32m~\\AppData\\Local\\pypoetry\\Cache\\virtualenvs\\mysite-vAluu_41-py3.11\\Lib\\site-packages\\django\\db\\models\\query.py:398\u001b[0m, in \u001b[0;36mQuerySet.__iter__\u001b[1;34m(self)\u001b[0m\n\u001b[0;32m    383\u001b[0m \u001b[38;5;28;01mdef\u001b[39;00m \u001b[38;5;21m__iter__\u001b[39m(\u001b[38;5;28mself\u001b[39m):\n\u001b[0;32m    384\u001b[0m \u001b[38;5;250m    \u001b[39m\u001b[38;5;124;03m\"\"\"\u001b[39;00m\n\u001b[0;32m    385\u001b[0m \u001b[38;5;124;03m    The queryset iterator protocol uses three nested iterators in the\u001b[39;00m\n\u001b[0;32m    386\u001b[0m \u001b[38;5;124;03m    default case:\u001b[39;00m\n\u001b[1;32m   (...)\u001b[0m\n\u001b[0;32m    396\u001b[0m \u001b[38;5;124;03m           - Responsible for turning the rows into model objects.\u001b[39;00m\n\u001b[0;32m    397\u001b[0m \u001b[38;5;124;03m    \"\"\"\u001b[39;00m\n\u001b[1;32m--> 398\u001b[0m     \u001b[38;5;28;43mself\u001b[39;49m\u001b[38;5;241;43m.\u001b[39;49m\u001b[43m_fetch_all\u001b[49m\u001b[43m(\u001b[49m\u001b[43m)\u001b[49m\n\u001b[0;32m    399\u001b[0m     \u001b[38;5;28;01mreturn\u001b[39;00m \u001b[38;5;28miter\u001b[39m(\u001b[38;5;28mself\u001b[39m\u001b[38;5;241m.\u001b[39m_result_cache)\n",
      "File \u001b[1;32m~\\AppData\\Local\\pypoetry\\Cache\\virtualenvs\\mysite-vAluu_41-py3.11\\Lib\\site-packages\\django\\db\\models\\query.py:1881\u001b[0m, in \u001b[0;36mQuerySet._fetch_all\u001b[1;34m(self)\u001b[0m\n\u001b[0;32m   1879\u001b[0m \u001b[38;5;28;01mdef\u001b[39;00m \u001b[38;5;21m_fetch_all\u001b[39m(\u001b[38;5;28mself\u001b[39m):\n\u001b[0;32m   1880\u001b[0m     \u001b[38;5;28;01mif\u001b[39;00m \u001b[38;5;28mself\u001b[39m\u001b[38;5;241m.\u001b[39m_result_cache \u001b[38;5;129;01mis\u001b[39;00m \u001b[38;5;28;01mNone\u001b[39;00m:\n\u001b[1;32m-> 1881\u001b[0m         \u001b[38;5;28mself\u001b[39m\u001b[38;5;241m.\u001b[39m_result_cache \u001b[38;5;241m=\u001b[39m \u001b[38;5;28mlist\u001b[39m(\u001b[38;5;28mself\u001b[39m\u001b[38;5;241m.\u001b[39m_iterable_class(\u001b[38;5;28mself\u001b[39m))\n\u001b[0;32m   1882\u001b[0m     \u001b[38;5;28;01mif\u001b[39;00m \u001b[38;5;28mself\u001b[39m\u001b[38;5;241m.\u001b[39m_prefetch_related_lookups \u001b[38;5;129;01mand\u001b[39;00m \u001b[38;5;129;01mnot\u001b[39;00m \u001b[38;5;28mself\u001b[39m\u001b[38;5;241m.\u001b[39m_prefetch_done:\n\u001b[0;32m   1883\u001b[0m         \u001b[38;5;28mself\u001b[39m\u001b[38;5;241m.\u001b[39m_prefetch_related_objects()\n",
      "File \u001b[1;32m~\\AppData\\Local\\pypoetry\\Cache\\virtualenvs\\mysite-vAluu_41-py3.11\\Lib\\site-packages\\django\\db\\models\\query.py:91\u001b[0m, in \u001b[0;36mModelIterable.__iter__\u001b[1;34m(self)\u001b[0m\n\u001b[0;32m     88\u001b[0m compiler \u001b[38;5;241m=\u001b[39m queryset\u001b[38;5;241m.\u001b[39mquery\u001b[38;5;241m.\u001b[39mget_compiler(using\u001b[38;5;241m=\u001b[39mdb)\n\u001b[0;32m     89\u001b[0m \u001b[38;5;66;03m# Execute the query. This will also fill compiler.select, klass_info,\u001b[39;00m\n\u001b[0;32m     90\u001b[0m \u001b[38;5;66;03m# and annotations.\u001b[39;00m\n\u001b[1;32m---> 91\u001b[0m results \u001b[38;5;241m=\u001b[39m \u001b[43mcompiler\u001b[49m\u001b[38;5;241;43m.\u001b[39;49m\u001b[43mexecute_sql\u001b[49m\u001b[43m(\u001b[49m\n\u001b[0;32m     92\u001b[0m \u001b[43m    \u001b[49m\u001b[43mchunked_fetch\u001b[49m\u001b[38;5;241;43m=\u001b[39;49m\u001b[38;5;28;43mself\u001b[39;49m\u001b[38;5;241;43m.\u001b[39;49m\u001b[43mchunked_fetch\u001b[49m\u001b[43m,\u001b[49m\u001b[43m \u001b[49m\u001b[43mchunk_size\u001b[49m\u001b[38;5;241;43m=\u001b[39;49m\u001b[38;5;28;43mself\u001b[39;49m\u001b[38;5;241;43m.\u001b[39;49m\u001b[43mchunk_size\u001b[49m\n\u001b[0;32m     93\u001b[0m \u001b[43m\u001b[49m\u001b[43m)\u001b[49m\n\u001b[0;32m     94\u001b[0m select, klass_info, annotation_col_map \u001b[38;5;241m=\u001b[39m (\n\u001b[0;32m     95\u001b[0m     compiler\u001b[38;5;241m.\u001b[39mselect,\n\u001b[0;32m     96\u001b[0m     compiler\u001b[38;5;241m.\u001b[39mklass_info,\n\u001b[0;32m     97\u001b[0m     compiler\u001b[38;5;241m.\u001b[39mannotation_col_map,\n\u001b[0;32m     98\u001b[0m )\n\u001b[0;32m     99\u001b[0m model_cls \u001b[38;5;241m=\u001b[39m klass_info[\u001b[38;5;124m\"\u001b[39m\u001b[38;5;124mmodel\u001b[39m\u001b[38;5;124m\"\u001b[39m]\n",
      "File \u001b[1;32m~\\AppData\\Local\\pypoetry\\Cache\\virtualenvs\\mysite-vAluu_41-py3.11\\Lib\\site-packages\\django\\db\\models\\sql\\compiler.py:1549\u001b[0m, in \u001b[0;36mSQLCompiler.execute_sql\u001b[1;34m(self, result_type, chunked_fetch, chunk_size)\u001b[0m\n\u001b[0;32m   1547\u001b[0m result_type \u001b[38;5;241m=\u001b[39m result_type \u001b[38;5;129;01mor\u001b[39;00m NO_RESULTS\n\u001b[0;32m   1548\u001b[0m \u001b[38;5;28;01mtry\u001b[39;00m:\n\u001b[1;32m-> 1549\u001b[0m     sql, params \u001b[38;5;241m=\u001b[39m \u001b[38;5;28;43mself\u001b[39;49m\u001b[38;5;241;43m.\u001b[39;49m\u001b[43mas_sql\u001b[49m\u001b[43m(\u001b[49m\u001b[43m)\u001b[49m\n\u001b[0;32m   1550\u001b[0m     \u001b[38;5;28;01mif\u001b[39;00m \u001b[38;5;129;01mnot\u001b[39;00m sql:\n\u001b[0;32m   1551\u001b[0m         \u001b[38;5;28;01mraise\u001b[39;00m EmptyResultSet\n",
      "File \u001b[1;32m~\\AppData\\Local\\pypoetry\\Cache\\virtualenvs\\mysite-vAluu_41-py3.11\\Lib\\site-packages\\django\\db\\models\\sql\\compiler.py:736\u001b[0m, in \u001b[0;36mSQLCompiler.as_sql\u001b[1;34m(self, with_limits, with_col_aliases)\u001b[0m\n\u001b[0;32m    734\u001b[0m \u001b[38;5;28;01mtry\u001b[39;00m:\n\u001b[0;32m    735\u001b[0m     combinator \u001b[38;5;241m=\u001b[39m \u001b[38;5;28mself\u001b[39m\u001b[38;5;241m.\u001b[39mquery\u001b[38;5;241m.\u001b[39mcombinator\n\u001b[1;32m--> 736\u001b[0m     extra_select, order_by, group_by \u001b[38;5;241m=\u001b[39m \u001b[38;5;28;43mself\u001b[39;49m\u001b[38;5;241;43m.\u001b[39;49m\u001b[43mpre_sql_setup\u001b[49m\u001b[43m(\u001b[49m\n\u001b[0;32m    737\u001b[0m \u001b[43m        \u001b[49m\u001b[43mwith_col_aliases\u001b[49m\u001b[38;5;241;43m=\u001b[39;49m\u001b[43mwith_col_aliases\u001b[49m\u001b[43m \u001b[49m\u001b[38;5;129;43;01mor\u001b[39;49;00m\u001b[43m \u001b[49m\u001b[38;5;28;43mbool\u001b[39;49m\u001b[43m(\u001b[49m\u001b[43mcombinator\u001b[49m\u001b[43m)\u001b[49m\u001b[43m,\u001b[49m\n\u001b[0;32m    738\u001b[0m \u001b[43m    \u001b[49m\u001b[43m)\u001b[49m\n\u001b[0;32m    739\u001b[0m     for_update_part \u001b[38;5;241m=\u001b[39m \u001b[38;5;28;01mNone\u001b[39;00m\n\u001b[0;32m    740\u001b[0m     \u001b[38;5;66;03m# Is a LIMIT/OFFSET clause needed?\u001b[39;00m\n",
      "File \u001b[1;32m~\\AppData\\Local\\pypoetry\\Cache\\virtualenvs\\mysite-vAluu_41-py3.11\\Lib\\site-packages\\django\\db\\models\\sql\\compiler.py:84\u001b[0m, in \u001b[0;36mSQLCompiler.pre_sql_setup\u001b[1;34m(self, with_col_aliases)\u001b[0m\n\u001b[0;32m     78\u001b[0m \u001b[38;5;28;01mdef\u001b[39;00m \u001b[38;5;21mpre_sql_setup\u001b[39m(\u001b[38;5;28mself\u001b[39m, with_col_aliases\u001b[38;5;241m=\u001b[39m\u001b[38;5;28;01mFalse\u001b[39;00m):\n\u001b[0;32m     79\u001b[0m \u001b[38;5;250m    \u001b[39m\u001b[38;5;124;03m\"\"\"\u001b[39;00m\n\u001b[0;32m     80\u001b[0m \u001b[38;5;124;03m    Do any necessary class setup immediately prior to producing SQL. This\u001b[39;00m\n\u001b[0;32m     81\u001b[0m \u001b[38;5;124;03m    is for things that can't necessarily be done in __init__ because we\u001b[39;00m\n\u001b[0;32m     82\u001b[0m \u001b[38;5;124;03m    might not have all the pieces in place at that time.\u001b[39;00m\n\u001b[0;32m     83\u001b[0m \u001b[38;5;124;03m    \"\"\"\u001b[39;00m\n\u001b[1;32m---> 84\u001b[0m     \u001b[38;5;28;43mself\u001b[39;49m\u001b[38;5;241;43m.\u001b[39;49m\u001b[43msetup_query\u001b[49m\u001b[43m(\u001b[49m\u001b[43mwith_col_aliases\u001b[49m\u001b[38;5;241;43m=\u001b[39;49m\u001b[43mwith_col_aliases\u001b[49m\u001b[43m)\u001b[49m\n\u001b[0;32m     85\u001b[0m     order_by \u001b[38;5;241m=\u001b[39m \u001b[38;5;28mself\u001b[39m\u001b[38;5;241m.\u001b[39mget_order_by()\n\u001b[0;32m     86\u001b[0m     \u001b[38;5;28mself\u001b[39m\u001b[38;5;241m.\u001b[39mwhere, \u001b[38;5;28mself\u001b[39m\u001b[38;5;241m.\u001b[39mhaving, \u001b[38;5;28mself\u001b[39m\u001b[38;5;241m.\u001b[39mqualify \u001b[38;5;241m=\u001b[39m \u001b[38;5;28mself\u001b[39m\u001b[38;5;241m.\u001b[39mquery\u001b[38;5;241m.\u001b[39mwhere\u001b[38;5;241m.\u001b[39msplit_having_qualify(\n\u001b[0;32m     87\u001b[0m         must_group_by\u001b[38;5;241m=\u001b[39m\u001b[38;5;28mself\u001b[39m\u001b[38;5;241m.\u001b[39mquery\u001b[38;5;241m.\u001b[39mgroup_by \u001b[38;5;129;01mis\u001b[39;00m \u001b[38;5;129;01mnot\u001b[39;00m \u001b[38;5;28;01mNone\u001b[39;00m\n\u001b[0;32m     88\u001b[0m     )\n",
      "File \u001b[1;32m~\\AppData\\Local\\pypoetry\\Cache\\virtualenvs\\mysite-vAluu_41-py3.11\\Lib\\site-packages\\django\\db\\models\\sql\\compiler.py:73\u001b[0m, in \u001b[0;36mSQLCompiler.setup_query\u001b[1;34m(self, with_col_aliases)\u001b[0m\n\u001b[0;32m     71\u001b[0m \u001b[38;5;28;01mif\u001b[39;00m \u001b[38;5;28mall\u001b[39m(\u001b[38;5;28mself\u001b[39m\u001b[38;5;241m.\u001b[39mquery\u001b[38;5;241m.\u001b[39malias_refcount[a] \u001b[38;5;241m==\u001b[39m \u001b[38;5;241m0\u001b[39m \u001b[38;5;28;01mfor\u001b[39;00m a \u001b[38;5;129;01min\u001b[39;00m \u001b[38;5;28mself\u001b[39m\u001b[38;5;241m.\u001b[39mquery\u001b[38;5;241m.\u001b[39malias_map):\n\u001b[0;32m     72\u001b[0m     \u001b[38;5;28mself\u001b[39m\u001b[38;5;241m.\u001b[39mquery\u001b[38;5;241m.\u001b[39mget_initial_alias()\n\u001b[1;32m---> 73\u001b[0m \u001b[38;5;28mself\u001b[39m\u001b[38;5;241m.\u001b[39mselect, \u001b[38;5;28mself\u001b[39m\u001b[38;5;241m.\u001b[39mklass_info, \u001b[38;5;28mself\u001b[39m\u001b[38;5;241m.\u001b[39mannotation_col_map \u001b[38;5;241m=\u001b[39m \u001b[38;5;28;43mself\u001b[39;49m\u001b[38;5;241;43m.\u001b[39;49m\u001b[43mget_select\u001b[49m\u001b[43m(\u001b[49m\n\u001b[0;32m     74\u001b[0m \u001b[43m    \u001b[49m\u001b[43mwith_col_aliases\u001b[49m\u001b[38;5;241;43m=\u001b[39;49m\u001b[43mwith_col_aliases\u001b[49m\u001b[43m,\u001b[49m\n\u001b[0;32m     75\u001b[0m \u001b[43m\u001b[49m\u001b[43m)\u001b[49m\n\u001b[0;32m     76\u001b[0m \u001b[38;5;28mself\u001b[39m\u001b[38;5;241m.\u001b[39mcol_count \u001b[38;5;241m=\u001b[39m \u001b[38;5;28mlen\u001b[39m(\u001b[38;5;28mself\u001b[39m\u001b[38;5;241m.\u001b[39mselect)\n",
      "File \u001b[1;32m~\\AppData\\Local\\pypoetry\\Cache\\virtualenvs\\mysite-vAluu_41-py3.11\\Lib\\site-packages\\django\\db\\models\\sql\\compiler.py:296\u001b[0m, in \u001b[0;36mSQLCompiler.get_select\u001b[1;34m(self, with_col_aliases)\u001b[0m\n\u001b[0;32m    294\u001b[0m \u001b[38;5;28;01mfor\u001b[39;00m col, alias \u001b[38;5;129;01min\u001b[39;00m select:\n\u001b[0;32m    295\u001b[0m     \u001b[38;5;28;01mtry\u001b[39;00m:\n\u001b[1;32m--> 296\u001b[0m         sql, params \u001b[38;5;241m=\u001b[39m \u001b[38;5;28;43mself\u001b[39;49m\u001b[38;5;241;43m.\u001b[39;49m\u001b[43mcompile\u001b[49m\u001b[43m(\u001b[49m\u001b[43mcol\u001b[49m\u001b[43m)\u001b[49m\n\u001b[0;32m    297\u001b[0m     \u001b[38;5;28;01mexcept\u001b[39;00m EmptyResultSet:\n\u001b[0;32m    298\u001b[0m         empty_result_set_value \u001b[38;5;241m=\u001b[39m \u001b[38;5;28mgetattr\u001b[39m(\n\u001b[0;32m    299\u001b[0m             col, \u001b[38;5;124m\"\u001b[39m\u001b[38;5;124mempty_result_set_value\u001b[39m\u001b[38;5;124m\"\u001b[39m, \u001b[38;5;28mNotImplemented\u001b[39m\n\u001b[0;32m    300\u001b[0m         )\n",
      "File \u001b[1;32m~\\AppData\\Local\\pypoetry\\Cache\\virtualenvs\\mysite-vAluu_41-py3.11\\Lib\\site-packages\\django\\db\\models\\sql\\compiler.py:546\u001b[0m, in \u001b[0;36mSQLCompiler.compile\u001b[1;34m(self, node)\u001b[0m\n\u001b[0;32m    544\u001b[0m     sql, params \u001b[38;5;241m=\u001b[39m vendor_impl(\u001b[38;5;28mself\u001b[39m, \u001b[38;5;28mself\u001b[39m\u001b[38;5;241m.\u001b[39mconnection)\n\u001b[0;32m    545\u001b[0m \u001b[38;5;28;01melse\u001b[39;00m:\n\u001b[1;32m--> 546\u001b[0m     sql, params \u001b[38;5;241m=\u001b[39m \u001b[43mnode\u001b[49m\u001b[38;5;241;43m.\u001b[39;49m\u001b[43mas_sql\u001b[49m\u001b[43m(\u001b[49m\u001b[38;5;28;43mself\u001b[39;49m\u001b[43m,\u001b[49m\u001b[43m \u001b[49m\u001b[38;5;28;43mself\u001b[39;49m\u001b[38;5;241;43m.\u001b[39;49m\u001b[43mconnection\u001b[49m\u001b[43m)\u001b[49m\n\u001b[0;32m    547\u001b[0m \u001b[38;5;28;01mreturn\u001b[39;00m sql, params\n",
      "File \u001b[1;32m~\\AppData\\Local\\pypoetry\\Cache\\virtualenvs\\mysite-vAluu_41-py3.11\\Lib\\site-packages\\django\\db\\models\\expressions.py:1141\u001b[0m, in \u001b[0;36mCol.as_sql\u001b[1;34m(self, compiler, connection)\u001b[0m\n\u001b[0;32m   1139\u001b[0m alias, column \u001b[38;5;241m=\u001b[39m \u001b[38;5;28mself\u001b[39m\u001b[38;5;241m.\u001b[39malias, \u001b[38;5;28mself\u001b[39m\u001b[38;5;241m.\u001b[39mtarget\u001b[38;5;241m.\u001b[39mcolumn\n\u001b[0;32m   1140\u001b[0m identifiers \u001b[38;5;241m=\u001b[39m (alias, column) \u001b[38;5;28;01mif\u001b[39;00m alias \u001b[38;5;28;01melse\u001b[39;00m (column,)\n\u001b[1;32m-> 1141\u001b[0m sql \u001b[38;5;241m=\u001b[39m \u001b[38;5;124m\"\u001b[39m\u001b[38;5;124m.\u001b[39m\u001b[38;5;124m\"\u001b[39m\u001b[38;5;241m.\u001b[39mjoin(\u001b[38;5;28mmap\u001b[39m(compiler\u001b[38;5;241m.\u001b[39mquote_name_unless_alias, identifiers))\n\u001b[0;32m   1142\u001b[0m \u001b[38;5;28;01mreturn\u001b[39;00m sql, []\n",
      "File \u001b[1;32m~\\AppData\\Local\\pypoetry\\Cache\\virtualenvs\\mysite-vAluu_41-py3.11\\Lib\\site-packages\\django\\db\\models\\sql\\compiler.py:537\u001b[0m, in \u001b[0;36mSQLCompiler.quote_name_unless_alias\u001b[1;34m(self, name)\u001b[0m\n\u001b[0;32m    535\u001b[0m     \u001b[38;5;28mself\u001b[39m\u001b[38;5;241m.\u001b[39mquote_cache[name] \u001b[38;5;241m=\u001b[39m name\n\u001b[0;32m    536\u001b[0m     \u001b[38;5;28;01mreturn\u001b[39;00m name\n\u001b[1;32m--> 537\u001b[0m r \u001b[38;5;241m=\u001b[39m \u001b[38;5;28;43mself\u001b[39;49m\u001b[38;5;241;43m.\u001b[39;49m\u001b[43mconnection\u001b[49m\u001b[38;5;241;43m.\u001b[39;49m\u001b[43mops\u001b[49m\u001b[38;5;241;43m.\u001b[39;49m\u001b[43mquote_name\u001b[49m\u001b[43m(\u001b[49m\u001b[43mname\u001b[49m\u001b[43m)\u001b[49m\n\u001b[0;32m    538\u001b[0m \u001b[38;5;28mself\u001b[39m\u001b[38;5;241m.\u001b[39mquote_cache[name] \u001b[38;5;241m=\u001b[39m r\n\u001b[0;32m    539\u001b[0m \u001b[38;5;28;01mreturn\u001b[39;00m r\n",
      "File \u001b[1;32m~\\AppData\\Local\\pypoetry\\Cache\\virtualenvs\\mysite-vAluu_41-py3.11\\Lib\\site-packages\\django\\db\\backends\\dummy\\base.py:20\u001b[0m, in \u001b[0;36mcomplain\u001b[1;34m(*args, **kwargs)\u001b[0m\n\u001b[0;32m     19\u001b[0m \u001b[38;5;28;01mdef\u001b[39;00m \u001b[38;5;21mcomplain\u001b[39m(\u001b[38;5;241m*\u001b[39margs, \u001b[38;5;241m*\u001b[39m\u001b[38;5;241m*\u001b[39mkwargs):\n\u001b[1;32m---> 20\u001b[0m     \u001b[38;5;28;01mraise\u001b[39;00m ImproperlyConfigured(\n\u001b[0;32m     21\u001b[0m         \u001b[38;5;124m\"\u001b[39m\u001b[38;5;124msettings.DATABASES is improperly configured. \u001b[39m\u001b[38;5;124m\"\u001b[39m\n\u001b[0;32m     22\u001b[0m         \u001b[38;5;124m\"\u001b[39m\u001b[38;5;124mPlease supply the ENGINE value. Check \u001b[39m\u001b[38;5;124m\"\u001b[39m\n\u001b[0;32m     23\u001b[0m         \u001b[38;5;124m\"\u001b[39m\u001b[38;5;124msettings documentation for more details.\u001b[39m\u001b[38;5;124m\"\u001b[39m\n\u001b[0;32m     24\u001b[0m     )\n",
      "\u001b[1;31mImproperlyConfigured\u001b[0m: settings.DATABASES is improperly configured. Please supply the ENGINE value. Check settings documentation for more details."
     ]
    }
   ],
   "source": [
    "Question.objects.all()"
   ]
  },
  {
   "cell_type": "code",
   "execution_count": 4,
   "id": "ab9f3475",
   "metadata": {},
   "outputs": [],
   "source": [
    "# from django.utils import timezone\n",
    "# import datetime\n",
    "\n",
    "# future_time = timezone.now() + datetime.timedelta(days=30)\n",
    "# future_question = Question(pub_date=future_time)\n",
    "# future_question.save()"
   ]
  },
  {
   "cell_type": "code",
   "execution_count": 5,
   "id": "14099644",
   "metadata": {},
   "outputs": [],
   "source": [
    "from django.utils import timezone"
   ]
  },
  {
   "cell_type": "markdown",
   "id": "3ed4ecd1",
   "metadata": {},
   "source": [
    "TEST CLIENT"
   ]
  },
  {
   "cell_type": "code",
   "execution_count": 6,
   "id": "6fac1b0a",
   "metadata": {},
   "outputs": [],
   "source": [
    "from django.test.utils import setup_test_environment,teardown_test_environment\n",
    "setup_test_environment()"
   ]
  },
  {
   "cell_type": "code",
   "execution_count": 7,
   "id": "5356f8fd",
   "metadata": {},
   "outputs": [],
   "source": [
    "from django.test.client import Client"
   ]
  },
  {
   "cell_type": "code",
   "execution_count": 8,
   "id": "4fdc36b6",
   "metadata": {},
   "outputs": [],
   "source": [
    "client = Client()"
   ]
  },
  {
   "cell_type": "code",
   "execution_count": 9,
   "id": "6b89333a",
   "metadata": {},
   "outputs": [],
   "source": [
    "response = client.get(\"/\")"
   ]
  },
  {
   "cell_type": "code",
   "execution_count": 10,
   "id": "ced12219",
   "metadata": {},
   "outputs": [],
   "source": [
    "from django.urls import reverse"
   ]
  },
  {
   "cell_type": "code",
   "execution_count": 11,
   "id": "cc097ee2",
   "metadata": {},
   "outputs": [],
   "source": [
    "response = client.get(reverse(\"polls:index\"))\n"
   ]
  },
  {
   "cell_type": "code",
   "execution_count": 12,
   "id": "fb5bd692",
   "metadata": {},
   "outputs": [
    {
     "data": {
      "text/plain": [
       "b'<!DOCTYPE html>\\n<html lang=\"en\">\\n\\n<head>\\n    <meta charset=\"UTF-8\">\\n    <meta name=\"viewport\" content=\"width=device-width, initial-scale=1.0\">\\n    <title>Polls</title>\\n    <style>\\n        * {\\n            margin: 0;\\n            padding: 0;\\n            box-sizing: border-box;\\n        }\\n\\n        body {\\n            font-family: \\'Helvetica Neue\\', Arial, sans-serif;\\n            background-color: #f0f2f5;\\n            color: #333;\\n            display: flex;\\n            justify-content: center;\\n            align-items: center;\\n            min-height: 100vh;\\n            padding: 20px;\\n        }\\n\\n        .container {\\n            background-color: #fff;\\n            border-radius: 10px;\\n            box-shadow: 0 4px 12px rgba(0, 0, 0, 0.1);\\n            max-width: 600px;\\n            width: 100%;\\n            padding: 30px;\\n            text-align: center;\\n        }\\n\\n        h1 {\\n            font-size: 28px;\\n            color: #444;\\n            margin-bottom: 20px;\\n        }\\n\\n        ul {\\n            list-style-type: none;\\n            padding: 0;\\n        }\\n\\n        li {\\n            margin: 15px 0;\\n        }\\n\\n        a.card {\\n            background-color: #f9f9f9;\\n            margin: 0;\\n            padding: 20px;\\n            border-radius: 10px;\\n            transition: transform 0.2s, box-shadow 0.2s;\\n            display: block;\\n            text-align: center;\\n            text-decoration: none;\\n            color: inherit;\\n        }\\n\\n        a.card:hover {\\n            transform: translateY(-3px);\\n            box-shadow: 0 6px 15px rgba(0, 0, 0, 0.1);\\n        }\\n\\n        .question-text {\\n            font-size: 24px;\\n            font-weight: bold;\\n            color: #2c3e50;\\n            /* Darker color to make it stand out */\\n            margin-bottom: 10px;\\n        }\\n\\n        .pub-date {\\n            font-size: 14px;\\n            color: #888;\\n            margin-bottom: 10px;\\n        }\\n\\n        .recent,\\n        .not-recent {\\n            display: inline-block;\\n            padding: 5px 10px;\\n            color: white;\\n            font-size: 12px;\\n            border-radius: 20px;\\n        }\\n\\n        .recent {\\n            background-color: #2ecc71;\\n        }\\n\\n        .not-recent {\\n            background-color: #e74c3c;\\n        }\\n\\n        p {\\n            font-size: 16px;\\n            color: #888;\\n        }\\n\\n        /* Responsive design */\\n        @media (max-width: 768px) {\\n            .container {\\n                padding: 20px;\\n                max-width: 90%;\\n            }\\n\\n            h1 {\\n                font-size: 24px;\\n            }\\n\\n            a.card {\\n                padding: 15px;\\n            }\\n\\n            .question-text {\\n                font-size: 22px;\\n            }\\n        }\\n\\n        @media (max-width: 480px) {\\n            h1 {\\n                font-size: 22px;\\n            }\\n\\n            a.card {\\n                padding: 12px;\\n            }\\n\\n            .question-text {\\n                font-size: 20px;\\n            }\\n\\n            .pub-date {\\n                font-size: 12px;\\n            }\\n        }\\n    </style>\\n</head>\\n\\n<body>\\n    <div class=\"container\">\\n        <h1>Available Polls</h1>\\n        \\n        <ul>\\n            \\n            <li>\\n                <a href=\"/polls/4/\" class=\"card\">\\n                    <div class=\"question-text\">What&#x27;s next ?</div>\\n                    <div class=\"pub-date\">Published on: September 21, 2024, 1:26 p.m.</div>\\n                    \\n                    <span class=\"not-recent\">Not Recent</span>\\n                    \\n                </a>\\n            </li>\\n            \\n            <li>\\n                <a href=\"/polls/3/\" class=\"card\">\\n                    <div class=\"question-text\">What&#x27;s up</div>\\n                    <div class=\"pub-date\">Published on: September 21, 2024, 12:45 p.m.</div>\\n                    \\n                    <span class=\"not-recent\">Not Recent</span>\\n                    \\n                </a>\\n            </li>\\n            \\n        </ul>\\n        \\n    </div>\\n</body>\\n\\n</html>'"
      ]
     },
     "execution_count": 12,
     "metadata": {},
     "output_type": "execute_result"
    }
   ],
   "source": [
    "response.content"
   ]
  },
  {
   "cell_type": "code",
   "execution_count": 13,
   "id": "9fc9c7e6",
   "metadata": {},
   "outputs": [
    {
     "data": {
      "text/plain": [
       "<QuerySet [<Question: What's next ?>, <Question: What's up>]>"
      ]
     },
     "execution_count": 13,
     "metadata": {},
     "output_type": "execute_result"
    }
   ],
   "source": [
    "response.context[\"latest_question_list\"]"
   ]
  },
  {
   "cell_type": "code",
   "execution_count": 14,
   "id": "71490607",
   "metadata": {},
   "outputs": [],
   "source": [
    "# from IPython.display import display,HTML\n",
    "# html_content = response.content.decode('utf-8')\n",
    "# display(HTML(data=html_content))"
   ]
  },
  {
   "cell_type": "code",
   "execution_count": 15,
   "id": "166202fc",
   "metadata": {},
   "outputs": [],
   "source": [
    "# response.content[\"latest_question_list\"]"
   ]
  },
  {
   "cell_type": "code",
   "execution_count": null,
   "id": "6d32c0d1",
   "metadata": {},
   "outputs": [],
   "source": []
  },
  {
   "cell_type": "code",
   "execution_count": 16,
   "id": "9f67bd58",
   "metadata": {},
   "outputs": [],
   "source": [
    "# teardown_test_environment()"
   ]
  }
 ],
 "metadata": {
  "kernelspec": {
   "display_name": "Django Shell-Plus",
   "language": "python",
   "name": "django_extensions"
  },
  "language_info": {
   "codemirror_mode": {
    "name": "ipython",
    "version": 3
   },
   "file_extension": ".py",
   "mimetype": "text/x-python",
   "name": "python",
   "nbconvert_exporter": "python",
   "pygments_lexer": "ipython3",
   "version": "3.11.0"
  }
 },
 "nbformat": 4,
 "nbformat_minor": 5
}
