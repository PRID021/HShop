{
 "cells": [
  {
   "cell_type": "code",
   "execution_count": 1,
   "id": "dd214d72",
   "metadata": {},
   "outputs": [],
   "source": [
    "import os\n",
    "os.environ['DJANGO_ALLOW_ASYNC_UNSAFE'] = 'true'"
   ]
  },
  {
   "cell_type": "code",
   "execution_count": 2,
   "id": "97608f5f",
   "metadata": {},
   "outputs": [],
   "source": [
    "from polls.models import Question, Choice"
   ]
  },
  {
   "cell_type": "code",
   "execution_count": 3,
   "id": "ede77295",
   "metadata": {},
   "outputs": [
    {
     "data": {
      "text/plain": [
       "<QuerySet [<Question: What's up>, <Question: What's next ?>, <Question: >]>"
      ]
     },
     "execution_count": 3,
     "metadata": {},
     "output_type": "execute_result"
    }
   ],
   "source": [
    "Question.objects.all()"
   ]
  },
  {
   "cell_type": "code",
   "execution_count": 4,
   "id": "ab9f3475",
   "metadata": {},
   "outputs": [],
   "source": [
    "# from django.utils import timezone\n",
    "# import datetime\n",
    "\n",
    "# future_time = timezone.now() + datetime.timedelta(days=30)\n",
    "# future_question = Question(pub_date=future_time)\n",
    "# future_question.save()"
   ]
  },
  {
   "cell_type": "code",
   "execution_count": 5,
   "id": "14099644",
   "metadata": {},
   "outputs": [],
   "source": [
    "from django.utils import timezone"
   ]
  },
  {
   "cell_type": "markdown",
   "id": "3ed4ecd1",
   "metadata": {},
   "source": [
    "TEST CLIENT"
   ]
  },
  {
   "cell_type": "code",
   "execution_count": 6,
   "id": "6fac1b0a",
   "metadata": {},
   "outputs": [],
   "source": [
    "from django.test.utils import setup_test_environment,teardown_test_environment\n",
    "setup_test_environment()"
   ]
  },
  {
   "cell_type": "code",
   "execution_count": 7,
   "id": "5356f8fd",
   "metadata": {},
   "outputs": [],
   "source": [
    "from django.test.client import Client"
   ]
  },
  {
   "cell_type": "code",
   "execution_count": 8,
   "id": "4fdc36b6",
   "metadata": {},
   "outputs": [],
   "source": [
    "client = Client()"
   ]
  },
  {
   "cell_type": "code",
   "execution_count": 9,
   "id": "6b89333a",
   "metadata": {},
   "outputs": [],
   "source": [
    "response = client.get(\"/\")"
   ]
  },
  {
   "cell_type": "code",
   "execution_count": 10,
   "id": "ced12219",
   "metadata": {},
   "outputs": [],
   "source": [
    "from django.urls import reverse"
   ]
  },
  {
   "cell_type": "code",
   "execution_count": 11,
   "id": "cc097ee2",
   "metadata": {},
   "outputs": [],
   "source": [
    "response = client.get(reverse(\"polls:index\"))\n"
   ]
  },
  {
   "cell_type": "code",
   "execution_count": 12,
   "id": "fb5bd692",
   "metadata": {},
   "outputs": [
    {
     "data": {
      "text/plain": [
       "b'<!DOCTYPE html>\\n<html lang=\"en\">\\n\\n<head>\\n    <meta charset=\"UTF-8\">\\n    <meta name=\"viewport\" content=\"width=device-width, initial-scale=1.0\">\\n    <title>Polls</title>\\n    <style>\\n        * {\\n            margin: 0;\\n            padding: 0;\\n            box-sizing: border-box;\\n        }\\n\\n        body {\\n            font-family: \\'Helvetica Neue\\', Arial, sans-serif;\\n            background-color: #f0f2f5;\\n            color: #333;\\n            display: flex;\\n            justify-content: center;\\n            align-items: center;\\n            min-height: 100vh;\\n            padding: 20px;\\n        }\\n\\n        .container {\\n            background-color: #fff;\\n            border-radius: 10px;\\n            box-shadow: 0 4px 12px rgba(0, 0, 0, 0.1);\\n            max-width: 600px;\\n            width: 100%;\\n            padding: 30px;\\n            text-align: center;\\n        }\\n\\n        h1 {\\n            font-size: 28px;\\n            color: #444;\\n            margin-bottom: 20px;\\n        }\\n\\n        ul {\\n            list-style-type: none;\\n            padding: 0;\\n        }\\n\\n        li {\\n            margin: 15px 0;\\n        }\\n\\n        a.card {\\n            background-color: #f9f9f9;\\n            margin: 0;\\n            padding: 20px;\\n            border-radius: 10px;\\n            transition: transform 0.2s, box-shadow 0.2s;\\n            display: block;\\n            text-align: center;\\n            text-decoration: none;\\n            color: inherit;\\n        }\\n\\n        a.card:hover {\\n            transform: translateY(-3px);\\n            box-shadow: 0 6px 15px rgba(0, 0, 0, 0.1);\\n        }\\n\\n        .question-text {\\n            font-size: 24px;\\n            font-weight: bold;\\n            color: #2c3e50;\\n            /* Darker color to make it stand out */\\n            margin-bottom: 10px;\\n        }\\n\\n        .pub-date {\\n            font-size: 14px;\\n            color: #888;\\n            margin-bottom: 10px;\\n        }\\n\\n        .recent,\\n        .not-recent {\\n            display: inline-block;\\n            padding: 5px 10px;\\n            color: white;\\n            font-size: 12px;\\n            border-radius: 20px;\\n        }\\n\\n        .recent {\\n            background-color: #2ecc71;\\n        }\\n\\n        .not-recent {\\n            background-color: #e74c3c;\\n        }\\n\\n        p {\\n            font-size: 16px;\\n            color: #888;\\n        }\\n\\n        /* Responsive design */\\n        @media (max-width: 768px) {\\n            .container {\\n                padding: 20px;\\n                max-width: 90%;\\n            }\\n\\n            h1 {\\n                font-size: 24px;\\n            }\\n\\n            a.card {\\n                padding: 15px;\\n            }\\n\\n            .question-text {\\n                font-size: 22px;\\n            }\\n        }\\n\\n        @media (max-width: 480px) {\\n            h1 {\\n                font-size: 22px;\\n            }\\n\\n            a.card {\\n                padding: 12px;\\n            }\\n\\n            .question-text {\\n                font-size: 20px;\\n            }\\n\\n            .pub-date {\\n                font-size: 12px;\\n            }\\n        }\\n    </style>\\n</head>\\n\\n<body>\\n    <div class=\"container\">\\n        <h1>Available Polls</h1>\\n        \\n        <ul>\\n            \\n            <li>\\n                <a href=\"/polls/4/\" class=\"card\">\\n                    <div class=\"question-text\">What&#x27;s next ?</div>\\n                    <div class=\"pub-date\">Published on: September 21, 2024, 1:26 p.m.</div>\\n                    \\n                    <span class=\"not-recent\">Not Recent</span>\\n                    \\n                </a>\\n            </li>\\n            \\n            <li>\\n                <a href=\"/polls/3/\" class=\"card\">\\n                    <div class=\"question-text\">What&#x27;s up</div>\\n                    <div class=\"pub-date\">Published on: September 21, 2024, 12:45 p.m.</div>\\n                    \\n                    <span class=\"not-recent\">Not Recent</span>\\n                    \\n                </a>\\n            </li>\\n            \\n        </ul>\\n        \\n    </div>\\n</body>\\n\\n</html>'"
      ]
     },
     "execution_count": 12,
     "metadata": {},
     "output_type": "execute_result"
    }
   ],
   "source": [
    "response.content"
   ]
  },
  {
   "cell_type": "code",
   "execution_count": 13,
   "id": "9fc9c7e6",
   "metadata": {},
   "outputs": [
    {
     "data": {
      "text/plain": [
       "<QuerySet [<Question: What's next ?>, <Question: What's up>]>"
      ]
     },
     "execution_count": 13,
     "metadata": {},
     "output_type": "execute_result"
    }
   ],
   "source": [
    "response.context[\"latest_question_list\"]"
   ]
  },
  {
   "cell_type": "code",
   "execution_count": 18,
   "id": "71490607",
   "metadata": {},
   "outputs": [],
   "source": [
    "# from IPython.display import display,HTML\n",
    "# html_content = response.content.decode('utf-8')\n",
    "# display(HTML(data=html_content))"
   ]
  },
  {
   "cell_type": "code",
   "execution_count": 15,
   "id": "166202fc",
   "metadata": {},
   "outputs": [],
   "source": [
    "# response.content[\"latest_question_list\"]"
   ]
  },
  {
   "cell_type": "code",
   "execution_count": null,
   "id": "6d32c0d1",
   "metadata": {},
   "outputs": [],
   "source": []
  },
  {
   "cell_type": "code",
   "execution_count": 16,
   "id": "9f67bd58",
   "metadata": {},
   "outputs": [],
   "source": [
    "# teardown_test_environment()"
   ]
  }
 ],
 "metadata": {
  "kernelspec": {
   "display_name": "Django Shell-Plus",
   "language": "python",
   "name": "django_extensions"
  },
  "language_info": {
   "codemirror_mode": {
    "name": "ipython",
    "version": 3
   },
   "file_extension": ".py",
   "mimetype": "text/x-python",
   "name": "python",
   "nbconvert_exporter": "python",
   "pygments_lexer": "ipython3",
   "version": "3.11.0"
  }
 },
 "nbformat": 4,
 "nbformat_minor": 5
}
